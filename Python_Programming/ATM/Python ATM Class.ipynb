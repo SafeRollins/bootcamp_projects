{
 "cells":[
  {
   "cell_type":"code",
   "source":[
    "class ATM:\n",
    "    def __init__(self,name,bankname):\n",
    "        self.name=name\n",
    "        self.balance=1000\n",
    "        self.bankname=bankname\n",
    "        self.password=\"12345\" #Default password\n",
    "\n",
    "    def login_pin(self,pin):\n",
    "        if (self.password==str(pin)):\n",
    "            return True\n",
    "        else:\n",
    "            print (\"Wrong pin\")\n",
    "            return False\n",
    "    def change_pin(self,new_pin):\n",
    "        pwd=input(\"Please enter current pin:\")\n",
    "        if self.login_pin(pwd):\n",
    "            self.password=new_pin\n",
    "            print (\"Pin has changed\")\n",
    "    def check_info(self):\n",
    "        pwd=input(\"Please enter pin:\")\n",
    "        if self.login_pin(pwd):\n",
    "            message=f\"Account: {self.name} \\r\\nBank Name: {self.bankname} \\r\\nBalance: {self.balance} \"\n",
    "            print (message)\n",
    "    def deposit(self,money):\n",
    "        pwd=input(\"Please enter pin:\")\n",
    "        if self.login_pin(pwd):\n",
    "            self.balance += float(money)\n",
    "            print (f\"New Balance: {self.balance}\")\n",
    "            print (\"Deposit successfully\")\n",
    "    def change_name(self,new_acc_name):\n",
    "        pwd=input(\"Please enter pin:\")\n",
    "        if self.login_pin(pwd):\n",
    "            self.name=new_acc_name\n",
    "            print (f\"New Name: {self.name}\")\n",
    "            print (\"Your account name has been changed\")\n",
    "    def withdrawal(self,money):\n",
    "        pwd=input(\"Please enter pin:\")\n",
    "        if self.login_pin(pwd):\n",
    "            if (self.balance-float(money)<0):\n",
    "                print (f\"Your withdrawal request has been rejected.\\r\\nYour Acccout Balance is {self.balance}\")\n",
    "            else:\n",
    "                self.balance=self.balance-money\n",
    "                print (f\"New Balance: {self.balance}\")\n",
    "                print (\"Withdrawal successfully\")"
   ],
   "execution_count":19,
   "outputs":[
    
   ],
   "metadata":{
    "datalore":{
     "node_id":"mPDSD4TlHLCTnALiSteOaD",
     "type":"CODE",
     "hide_input_from_viewers":false,
     "hide_output_from_viewers":false
    }
   }
  },
  {
   "cell_type":"code",
   "source":[
    "acc= ATM(\"Chayapat L.\",\"Siam Commercial Bank\")\n",
    "acc.check_info()"
   ],
   "execution_count":20,
   "outputs":[
    {
     "name":"stdout",
     "text":[
      "Please enter pin: 12345\n",
      "Account: Chayapat L. \r\n",
      "Bank Name: Siam Commercial Bank \r\n",
      "Balance: 1000 \n"
     ],
     "output_type":"stream"
    }
   ],
   "metadata":{
    "datalore":{
     "node_id":"2iU1eXozpJ7ocnwc0dx8bs",
     "type":"CODE",
     "hide_input_from_viewers":false,
     "hide_output_from_viewers":false
    }
   }
  },
  {
   "cell_type":"code",
   "source":[
    "acc.change_pin(\"67890\")"
   ],
   "execution_count":21,
   "outputs":[
    {
     "name":"stdout",
     "text":[
      "Please enter current pin: 12345\n",
      "Pin has changed\n"
     ],
     "output_type":"stream"
    }
   ],
   "metadata":{
    "datalore":{
     "node_id":"N9FUp3rkAbTXIdFQsaUKQs",
     "type":"CODE",
     "hide_input_from_viewers":false,
     "hide_output_from_viewers":false
    }
   }
  },
  {
   "cell_type":"code",
   "source":[
    "acc.deposit(900)"
   ],
   "execution_count":22,
   "outputs":[
    {
     "name":"stdout",
     "text":[
      "Please enter pin: 67890\n",
      "New Balance: 1900.0\n",
      "Deposit successfully\n"
     ],
     "output_type":"stream"
    }
   ],
   "metadata":{
    "datalore":{
     "node_id":"rnD2aXtKBXjdyiZBgp8l4x",
     "type":"CODE",
     "hide_input_from_viewers":false,
     "hide_output_from_viewers":false
    }
   }
  },
  {
   "cell_type":"code",
   "source":[
    "acc.withdrawal(400)"
   ],
   "execution_count":23,
   "outputs":[
    {
     "name":"stdout",
     "text":[
      "Please enter pin: 67890\n",
      "New Balance: 1500.0\n",
      "Withdrawal successfully\n"
     ],
     "output_type":"stream"
    }
   ],
   "metadata":{
    "datalore":{
     "node_id":"rqlTX2oBmJd7voMjCUrnLH",
     "type":"CODE",
     "hide_input_from_viewers":false,
     "hide_output_from_viewers":false
    }
   }
  },
  {
   "cell_type":"code",
   "source":[
    "acc.change_name(\"Safe\")"
   ],
   "execution_count":24,
   "outputs":[
    {
     "name":"stdout",
     "text":[
      "Please enter pin: 123456\n",
      "Wrong pin\n"
     ],
     "output_type":"stream"
    }
   ],
   "metadata":{
    "datalore":{
     "node_id":"Ao90uv9fGYbAkaDPKE2MuX",
     "type":"CODE",
     "hide_input_from_viewers":false,
     "hide_output_from_viewers":false
    }
   }
  },
  {
   "cell_type":"code",
   "source":[
    "acc.change_name(\"Safe\")"
   ],
   "execution_count":25,
   "outputs":[
    {
     "name":"stdout",
     "text":[
      "Please enter pin: 67890\n",
      "New Name: Safe\n",
      "Your account name has been changed\n"
     ],
     "output_type":"stream"
    }
   ],
   "metadata":{
    "datalore":{
     "node_id":"m49EluUFgTM6U9RTCcvp5d",
     "type":"CODE",
     "hide_input_from_viewers":false,
     "hide_output_from_viewers":false
    }
   }
  },
  {
   "cell_type":"code",
   "source":[
    "acc.check_info()"
   ],
   "execution_count":26,
   "outputs":[
    {
     "name":"stdout",
     "text":[
      "Please enter pin: 67890\n",
      "Account: Safe \r\n",
      "Bank Name: Siam Commercial Bank \r\n",
      "Balance: 1500.0 \n"
     ],
     "output_type":"stream"
    }
   ],
   "metadata":{
    "datalore":{
     "node_id":"sYTdNz60lfYemw1tFxfL7W",
     "type":"CODE",
     "hide_input_from_viewers":false,
     "hide_output_from_viewers":false
    }
   }
  }
 ],
 "metadata":{
  "kernelspec":{
   "display_name":"Python",
   "language":"python",
   "name":"python"
  },
  "datalore":{
   "version":1,
   "computation_mode":"JUPYTER",
   "package_manager":"pip",
   "base_environment":"default",
   "packages":[
    
   ]
  }
 },
 "nbformat":4,
 "nbformat_minor":4
}